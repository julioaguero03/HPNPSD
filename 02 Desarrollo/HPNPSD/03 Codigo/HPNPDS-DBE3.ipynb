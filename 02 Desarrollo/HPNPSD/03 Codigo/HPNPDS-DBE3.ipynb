{
 "cells": [
  {
   "cell_type": "code",
   "execution_count": 1,
   "id": "b34b6730",
   "metadata": {},
   "outputs": [],
   "source": [
    "#En un notebook desarrolle un modelo o modelos que permita predecir el nivel de presión sonora a escala en decibelios. \n",
    "#En cada caso debe colocar la forma en la que se recuperan los datos, análisis exploratorio de los datos, transformación \n",
    "#de datos si fuera el caso, selección del conjunto de entrenamiento y prueba, evaluación del modelo o modelos \n",
    "#desarrollados y conclusión sobre el mejor modelo elegido"
   ]
  },
  {
   "cell_type": "code",
   "execution_count": 2,
   "id": "a80079fc",
   "metadata": {},
   "outputs": [],
   "source": [
    "#importar las librerias\n",
    "import pandas as pd\n",
    "import numpy as np\n",
    "import matplotlib.pyplot as plt\n",
    "import seaborn as sns"
   ]
  },
  {
   "cell_type": "markdown",
   "id": "bb0c1900",
   "metadata": {},
   "source": [
    "### Recuperación de datos"
   ]
  },
  {
   "cell_type": "code",
   "execution_count": 3,
   "id": "27325162",
   "metadata": {},
   "outputs": [],
   "source": [
    "#datos=pd.read_csv('airfoil_self_noise.dat')\n",
    "columnas = ['Frecuencia',\n",
    "           'AnguloDeAtaque',\n",
    "           'LongitudDeLaCuerda',\n",
    "           'VelocidadDeFlujoLibre',\n",
    "           'EspesorDeDesplazamiento',\n",
    "           'NivelDePresion']\n",
    "\n",
    "datos = pd.read_csv('airfoil_self_noise.dat', sep='\\t', names=columnas)"
   ]
  },
  {
   "cell_type": "markdown",
   "id": "52a9a13d",
   "metadata": {},
   "source": [
    "## Entrenando el Modelo de Regresión Lineal"
   ]
  },
  {
   "cell_type": "markdown",
   "id": "fe73cae3",
   "metadata": {},
   "source": [
    "### arreglos X e y"
   ]
  },
  {
   "cell_type": "code",
   "execution_count": 4,
   "id": "ce7b639c",
   "metadata": {},
   "outputs": [],
   "source": [
    "X = datos[['Frecuencia', 'AnguloDeAtaque', 'LongitudDeLaCuerda',\n",
    "       'VelocidadDeFlujoLibre', 'EspesorDeDesplazamiento']]\n",
    "y = datos['NivelDePresion']"
   ]
  },
  {
   "cell_type": "markdown",
   "id": "68426220",
   "metadata": {},
   "source": [
    "### Dividir datos de entrenamiento y prueba"
   ]
  },
  {
   "cell_type": "code",
   "execution_count": 5,
   "id": "963f56a6",
   "metadata": {},
   "outputs": [],
   "source": [
    "from sklearn.model_selection import train_test_split"
   ]
  },
  {
   "cell_type": "code",
   "execution_count": 6,
   "id": "ade5bd30",
   "metadata": {},
   "outputs": [],
   "source": [
    "X_train, X_test, y_train, y_test = train_test_split(X,\n",
    "                                                     y,\n",
    "                                                    test_size=0.3,\n",
    "                                                    random_state=50)"
   ]
  },
  {
   "cell_type": "markdown",
   "id": "5afbab52",
   "metadata": {},
   "source": [
    "### Crear y Entrenar el Modelo"
   ]
  },
  {
   "cell_type": "code",
   "execution_count": 7,
   "id": "e1b28931",
   "metadata": {},
   "outputs": [
    {
     "data": {
      "text/html": [
       "<style>#sk-container-id-1 {color: black;background-color: white;}#sk-container-id-1 pre{padding: 0;}#sk-container-id-1 div.sk-toggleable {background-color: white;}#sk-container-id-1 label.sk-toggleable__label {cursor: pointer;display: block;width: 100%;margin-bottom: 0;padding: 0.3em;box-sizing: border-box;text-align: center;}#sk-container-id-1 label.sk-toggleable__label-arrow:before {content: \"▸\";float: left;margin-right: 0.25em;color: #696969;}#sk-container-id-1 label.sk-toggleable__label-arrow:hover:before {color: black;}#sk-container-id-1 div.sk-estimator:hover label.sk-toggleable__label-arrow:before {color: black;}#sk-container-id-1 div.sk-toggleable__content {max-height: 0;max-width: 0;overflow: hidden;text-align: left;background-color: #f0f8ff;}#sk-container-id-1 div.sk-toggleable__content pre {margin: 0.2em;color: black;border-radius: 0.25em;background-color: #f0f8ff;}#sk-container-id-1 input.sk-toggleable__control:checked~div.sk-toggleable__content {max-height: 200px;max-width: 100%;overflow: auto;}#sk-container-id-1 input.sk-toggleable__control:checked~label.sk-toggleable__label-arrow:before {content: \"▾\";}#sk-container-id-1 div.sk-estimator input.sk-toggleable__control:checked~label.sk-toggleable__label {background-color: #d4ebff;}#sk-container-id-1 div.sk-label input.sk-toggleable__control:checked~label.sk-toggleable__label {background-color: #d4ebff;}#sk-container-id-1 input.sk-hidden--visually {border: 0;clip: rect(1px 1px 1px 1px);clip: rect(1px, 1px, 1px, 1px);height: 1px;margin: -1px;overflow: hidden;padding: 0;position: absolute;width: 1px;}#sk-container-id-1 div.sk-estimator {font-family: monospace;background-color: #f0f8ff;border: 1px dotted black;border-radius: 0.25em;box-sizing: border-box;margin-bottom: 0.5em;}#sk-container-id-1 div.sk-estimator:hover {background-color: #d4ebff;}#sk-container-id-1 div.sk-parallel-item::after {content: \"\";width: 100%;border-bottom: 1px solid gray;flex-grow: 1;}#sk-container-id-1 div.sk-label:hover label.sk-toggleable__label {background-color: #d4ebff;}#sk-container-id-1 div.sk-serial::before {content: \"\";position: absolute;border-left: 1px solid gray;box-sizing: border-box;top: 0;bottom: 0;left: 50%;z-index: 0;}#sk-container-id-1 div.sk-serial {display: flex;flex-direction: column;align-items: center;background-color: white;padding-right: 0.2em;padding-left: 0.2em;position: relative;}#sk-container-id-1 div.sk-item {position: relative;z-index: 1;}#sk-container-id-1 div.sk-parallel {display: flex;align-items: stretch;justify-content: center;background-color: white;position: relative;}#sk-container-id-1 div.sk-item::before, #sk-container-id-1 div.sk-parallel-item::before {content: \"\";position: absolute;border-left: 1px solid gray;box-sizing: border-box;top: 0;bottom: 0;left: 50%;z-index: -1;}#sk-container-id-1 div.sk-parallel-item {display: flex;flex-direction: column;z-index: 1;position: relative;background-color: white;}#sk-container-id-1 div.sk-parallel-item:first-child::after {align-self: flex-end;width: 50%;}#sk-container-id-1 div.sk-parallel-item:last-child::after {align-self: flex-start;width: 50%;}#sk-container-id-1 div.sk-parallel-item:only-child::after {width: 0;}#sk-container-id-1 div.sk-dashed-wrapped {border: 1px dashed gray;margin: 0 0.4em 0.5em 0.4em;box-sizing: border-box;padding-bottom: 0.4em;background-color: white;}#sk-container-id-1 div.sk-label label {font-family: monospace;font-weight: bold;display: inline-block;line-height: 1.2em;}#sk-container-id-1 div.sk-label-container {text-align: center;}#sk-container-id-1 div.sk-container {/* jupyter's `normalize.less` sets `[hidden] { display: none; }` but bootstrap.min.css set `[hidden] { display: none !important; }` so we also need the `!important` here to be able to override the default hidden behavior on the sphinx rendered scikit-learn.org. See: https://github.com/scikit-learn/scikit-learn/issues/21755 */display: inline-block !important;position: relative;}#sk-container-id-1 div.sk-text-repr-fallback {display: none;}</style><div id=\"sk-container-id-1\" class=\"sk-top-container\"><div class=\"sk-text-repr-fallback\"><pre>LinearRegression()</pre><b>In a Jupyter environment, please rerun this cell to show the HTML representation or trust the notebook. <br />On GitHub, the HTML representation is unable to render, please try loading this page with nbviewer.org.</b></div><div class=\"sk-container\" hidden><div class=\"sk-item\"><div class=\"sk-estimator sk-toggleable\"><input class=\"sk-toggleable__control sk-hidden--visually\" id=\"sk-estimator-id-1\" type=\"checkbox\" checked><label for=\"sk-estimator-id-1\" class=\"sk-toggleable__label sk-toggleable__label-arrow\">LinearRegression</label><div class=\"sk-toggleable__content\"><pre>LinearRegression()</pre></div></div></div></div></div>"
      ],
      "text/plain": [
       "LinearRegression()"
      ]
     },
     "execution_count": 7,
     "metadata": {},
     "output_type": "execute_result"
    }
   ],
   "source": [
    "from sklearn.linear_model import LinearRegression\n",
    "lm = LinearRegression()\n",
    "lm.fit(X_train,y_train)"
   ]
  },
  {
   "cell_type": "markdown",
   "id": "9052112b",
   "metadata": {},
   "source": [
    "### Evaluación del Modelo"
   ]
  },
  {
   "cell_type": "code",
   "execution_count": 8,
   "id": "76db7ac8",
   "metadata": {},
   "outputs": [
    {
     "name": "stdout",
     "output_type": "stream",
     "text": [
      "Beta 0 = 133.42275287577456\n"
     ]
    }
   ],
   "source": [
    "# imprime el interceptor\n",
    "print(\"Beta 0 =\",lm.intercept_)"
   ]
  },
  {
   "cell_type": "code",
   "execution_count": 9,
   "id": "e871b3f5",
   "metadata": {},
   "outputs": [
    {
     "data": {
      "text/plain": [
       "Index(['Frecuencia', 'AnguloDeAtaque', 'LongitudDeLaCuerda',\n",
       "       'VelocidadDeFlujoLibre', 'EspesorDeDesplazamiento'],\n",
       "      dtype='object')"
      ]
     },
     "execution_count": 9,
     "metadata": {},
     "output_type": "execute_result"
    }
   ],
   "source": [
    "X.columns"
   ]
  },
  {
   "cell_type": "code",
   "execution_count": 10,
   "id": "5b060c3c",
   "metadata": {},
   "outputs": [
    {
     "data": {
      "text/plain": [
       "array([-1.27074275e-03, -4.92657276e-01, -3.63405069e+01,  9.33080236e-02,\n",
       "       -1.23542078e+02])"
      ]
     },
     "execution_count": 10,
     "metadata": {},
     "output_type": "execute_result"
    }
   ],
   "source": [
    "lm.coef_"
   ]
  },
  {
   "cell_type": "code",
   "execution_count": 11,
   "id": "2845c0ff",
   "metadata": {},
   "outputs": [
    {
     "data": {
      "text/html": [
       "<div>\n",
       "<style scoped>\n",
       "    .dataframe tbody tr th:only-of-type {\n",
       "        vertical-align: middle;\n",
       "    }\n",
       "\n",
       "    .dataframe tbody tr th {\n",
       "        vertical-align: top;\n",
       "    }\n",
       "\n",
       "    .dataframe thead th {\n",
       "        text-align: right;\n",
       "    }\n",
       "</style>\n",
       "<table border=\"1\" class=\"dataframe\">\n",
       "  <thead>\n",
       "    <tr style=\"text-align: right;\">\n",
       "      <th></th>\n",
       "      <th>Coeficiente</th>\n",
       "    </tr>\n",
       "  </thead>\n",
       "  <tbody>\n",
       "    <tr>\n",
       "      <th>Frecuencia</th>\n",
       "      <td>-0.001271</td>\n",
       "    </tr>\n",
       "    <tr>\n",
       "      <th>AnguloDeAtaque</th>\n",
       "      <td>-0.492657</td>\n",
       "    </tr>\n",
       "    <tr>\n",
       "      <th>LongitudDeLaCuerda</th>\n",
       "      <td>-36.340507</td>\n",
       "    </tr>\n",
       "    <tr>\n",
       "      <th>VelocidadDeFlujoLibre</th>\n",
       "      <td>0.093308</td>\n",
       "    </tr>\n",
       "    <tr>\n",
       "      <th>EspesorDeDesplazamiento</th>\n",
       "      <td>-123.542078</td>\n",
       "    </tr>\n",
       "  </tbody>\n",
       "</table>\n",
       "</div>"
      ],
      "text/plain": [
       "                         Coeficiente\n",
       "Frecuencia                 -0.001271\n",
       "AnguloDeAtaque             -0.492657\n",
       "LongitudDeLaCuerda        -36.340507\n",
       "VelocidadDeFlujoLibre       0.093308\n",
       "EspesorDeDesplazamiento  -123.542078"
      ]
     },
     "execution_count": 11,
     "metadata": {},
     "output_type": "execute_result"
    }
   ],
   "source": [
    "coeff_df = pd.DataFrame(lm.coef_,index=X.columns,columns=['Coeficiente'])\n",
    "coeff_df"
   ]
  },
  {
   "cell_type": "markdown",
   "id": "f32611bc",
   "metadata": {},
   "source": [
    "## Predicciones de nuestro modelo"
   ]
  },
  {
   "cell_type": "code",
   "execution_count": 12,
   "id": "d658f780",
   "metadata": {},
   "outputs": [
    {
     "data": {
      "text/html": [
       "<div>\n",
       "<style scoped>\n",
       "    .dataframe tbody tr th:only-of-type {\n",
       "        vertical-align: middle;\n",
       "    }\n",
       "\n",
       "    .dataframe tbody tr th {\n",
       "        vertical-align: top;\n",
       "    }\n",
       "\n",
       "    .dataframe thead th {\n",
       "        text-align: right;\n",
       "    }\n",
       "</style>\n",
       "<table border=\"1\" class=\"dataframe\">\n",
       "  <thead>\n",
       "    <tr style=\"text-align: right;\">\n",
       "      <th></th>\n",
       "      <th>Frecuencia</th>\n",
       "      <th>AnguloDeAtaque</th>\n",
       "      <th>LongitudDeLaCuerda</th>\n",
       "      <th>VelocidadDeFlujoLibre</th>\n",
       "      <th>EspesorDeDesplazamiento</th>\n",
       "    </tr>\n",
       "  </thead>\n",
       "  <tbody>\n",
       "    <tr>\n",
       "      <th>914</th>\n",
       "      <td>3150</td>\n",
       "      <td>15.4</td>\n",
       "      <td>0.0508</td>\n",
       "      <td>39.6</td>\n",
       "      <td>0.028259</td>\n",
       "    </tr>\n",
       "    <tr>\n",
       "      <th>959</th>\n",
       "      <td>2500</td>\n",
       "      <td>19.7</td>\n",
       "      <td>0.0508</td>\n",
       "      <td>39.6</td>\n",
       "      <td>0.036484</td>\n",
       "    </tr>\n",
       "    <tr>\n",
       "      <th>1010</th>\n",
       "      <td>4000</td>\n",
       "      <td>4.8</td>\n",
       "      <td>0.0254</td>\n",
       "      <td>71.3</td>\n",
       "      <td>0.000849</td>\n",
       "    </tr>\n",
       "    <tr>\n",
       "      <th>49</th>\n",
       "      <td>250</td>\n",
       "      <td>0.0</td>\n",
       "      <td>0.3048</td>\n",
       "      <td>31.7</td>\n",
       "      <td>0.003313</td>\n",
       "    </tr>\n",
       "    <tr>\n",
       "      <th>1317</th>\n",
       "      <td>8000</td>\n",
       "      <td>3.3</td>\n",
       "      <td>0.1016</td>\n",
       "      <td>55.5</td>\n",
       "      <td>0.002211</td>\n",
       "    </tr>\n",
       "  </tbody>\n",
       "</table>\n",
       "</div>"
      ],
      "text/plain": [
       "      Frecuencia  AnguloDeAtaque  LongitudDeLaCuerda  VelocidadDeFlujoLibre  \\\n",
       "914         3150            15.4              0.0508                   39.6   \n",
       "959         2500            19.7              0.0508                   39.6   \n",
       "1010        4000             4.8              0.0254                   71.3   \n",
       "49           250             0.0              0.3048                   31.7   \n",
       "1317        8000             3.3              0.1016                   55.5   \n",
       "\n",
       "      EspesorDeDesplazamiento  \n",
       "914                  0.028259  \n",
       "959                  0.036484  \n",
       "1010                 0.000849  \n",
       "49                   0.003313  \n",
       "1317                 0.002211  "
      ]
     },
     "execution_count": 12,
     "metadata": {},
     "output_type": "execute_result"
    }
   ],
   "source": [
    "X_test.head()"
   ]
  },
  {
   "cell_type": "code",
   "execution_count": 13,
   "id": "33568c72",
   "metadata": {},
   "outputs": [
    {
     "data": {
      "text/plain": [
       "array([120.1906785 , 117.88213847, 131.59999828, 124.57709213,\n",
       "       122.84429016, 127.48052377, 114.15288263, 113.07275129,\n",
       "       127.38655778, 119.45519668, 124.55981656, 120.3950623 ,\n",
       "       123.41928375, 118.57569199, 126.15844333, 129.45445637,\n",
       "       131.98111373, 122.14774273, 124.41747709, 125.35651298,\n",
       "       123.55045957, 130.54009865, 123.99818066, 118.83488211,\n",
       "       131.47513457, 137.12144282, 123.81824777, 131.4218037 ,\n",
       "       125.24245181, 120.58512854, 126.2955933 , 124.53816767,\n",
       "       125.15594936, 132.12940703, 124.21702908, 124.47840222,\n",
       "       126.6565184 , 121.33742683, 123.18419634, 123.5136989 ,\n",
       "       128.85081844, 132.66417972, 126.72235947, 126.88424784,\n",
       "       119.70147066, 132.63234403, 125.00788755, 116.56729385,\n",
       "       127.49409786, 125.71215615, 127.2446465 , 125.14322378,\n",
       "       131.56924127, 127.81159606, 124.97214251, 121.85249623,\n",
       "       133.06905988, 123.49878082, 131.4254287 , 119.14518602,\n",
       "       116.18783885, 132.21436592, 127.9409657 , 126.10701826,\n",
       "       127.3121875 , 131.95501855, 122.09206654, 127.97827408,\n",
       "       125.90514314, 129.19073529, 126.41800428, 116.12253389,\n",
       "       129.94824931, 133.41758885, 126.87535624, 125.80840302,\n",
       "       124.22048198, 128.40795286, 124.63970442, 126.24657687,\n",
       "       126.14928121, 126.72007923, 131.57899455, 128.09683401,\n",
       "       126.41396653, 114.83204246, 124.67306712, 128.08046931,\n",
       "       118.51750984, 118.54989871, 126.42352497, 130.37438313,\n",
       "       122.20235039, 125.88223607, 124.0671302 , 123.4976895 ,\n",
       "       131.66274772, 118.31920324, 132.44709271, 118.83921886,\n",
       "       129.17039851, 122.41060058, 126.74918503, 123.85184392,\n",
       "       126.70105254, 125.63836853, 114.97886541, 123.99143749,\n",
       "       125.86535405, 122.33784644, 125.68721177, 120.52823451,\n",
       "       126.19453671, 127.83422424, 122.33705297, 116.96545296,\n",
       "       133.47535539, 130.89553799, 118.50404821, 126.30800634,\n",
       "       127.78188253, 132.91726753, 126.37365115, 118.35795367,\n",
       "       122.00490254, 121.49215676, 129.37578446, 130.5807549 ,\n",
       "       122.74634538, 119.62022467, 133.1634403 , 134.20065619,\n",
       "       128.32651194, 132.23100494, 130.12023458, 127.32592715,\n",
       "       117.27782234, 121.91995359, 120.58608271, 121.15750795,\n",
       "       129.71499581, 130.70459085, 125.02570795, 119.3720817 ,\n",
       "       119.35160098, 123.17692396, 128.66726133, 120.25490196,\n",
       "       121.44003941, 125.15192483, 120.34956025, 116.08839605,\n",
       "       117.62263493, 130.32030408, 120.11912052, 126.11953082,\n",
       "       129.48128194, 118.91385308, 129.26053677, 129.40424974,\n",
       "       130.94463342, 117.62781117, 129.95024327, 120.8149214 ,\n",
       "       125.49313332, 122.41765993, 131.84859505, 124.73415471,\n",
       "       124.49427832, 130.15817147, 120.64271085, 120.66431088,\n",
       "       118.42541104, 131.97403077, 122.49823775, 126.83372498,\n",
       "       123.0530313 , 119.16935822, 125.81085214, 121.97506796,\n",
       "       120.27411418, 115.61423679, 125.14971607, 127.25948351,\n",
       "       130.30740628, 134.64541616, 117.83803659, 130.50424028,\n",
       "       117.71341647, 125.13398819, 122.4811563 , 132.75137419,\n",
       "       125.8903006 , 126.76114721, 127.71420427, 123.68660146,\n",
       "       127.0666752 , 130.91456651, 132.84575461, 122.89569342,\n",
       "       127.24747192, 125.99245655, 124.64062927, 126.22754395,\n",
       "       127.28545604, 123.22933262, 123.50783686, 122.14340424,\n",
       "       117.3452797 , 131.68464707, 135.92620813, 112.78034436,\n",
       "       119.14128268, 124.09420989, 123.03675495, 130.74595146,\n",
       "       124.59572462, 129.32613808, 122.20165018, 124.30946395,\n",
       "       132.93604307, 126.46392958, 131.89269755, 125.61287231,\n",
       "       124.98669932, 121.05130014, 123.98114659, 124.09878334,\n",
       "       127.38034467, 116.59520523, 120.29740152, 125.36364306,\n",
       "       123.11476723, 130.06992383, 128.48888912, 129.35778893,\n",
       "       130.88268023, 124.30087685, 121.91213365, 124.66715053,\n",
       "       126.20532471, 128.82011579, 121.33046925, 122.95306009,\n",
       "       129.37031096, 126.82744633, 126.88807006, 124.96013498,\n",
       "       120.70518261, 121.1747246 , 126.8694639 , 124.64141897,\n",
       "       130.99069336, 123.90656798, 114.35511402, 118.8618138 ,\n",
       "       123.5870192 , 133.90308678, 120.198461  , 129.63023965,\n",
       "       119.66520164, 119.49594117, 123.29252898, 128.61001632,\n",
       "       119.78807384, 119.25694779, 120.81295514, 122.52437282,\n",
       "       131.65634508, 121.72675557, 129.13677069, 134.13253232,\n",
       "       128.63486447, 124.49449385, 127.90466425, 124.49731564,\n",
       "       121.7660122 , 128.47267627, 121.72542195, 125.29351981,\n",
       "       125.82725999, 118.63323911, 131.70242701, 124.90020916,\n",
       "       124.96191624, 128.94008319, 128.12069052, 125.45377009,\n",
       "       126.38023726, 130.13235771, 128.85195148, 114.83637921,\n",
       "       121.81374579, 119.21727019, 129.38484315, 121.62768276,\n",
       "       122.41864948, 121.54485693, 119.36385357, 126.9361055 ,\n",
       "       129.63323273, 128.4227274 , 122.11056501, 120.42362396,\n",
       "       124.3170535 , 133.94553021, 122.92277541, 119.11992132,\n",
       "       123.79323419, 119.78825259, 122.27627556, 124.45361914,\n",
       "       126.23087772, 127.64070633, 125.67585596, 128.99519225,\n",
       "       125.10236443, 128.50015529, 123.43245291, 112.78570585,\n",
       "       127.82215582, 119.89516273, 130.70529521, 126.8974218 ,\n",
       "       126.37977296, 124.5125496 , 131.41115177, 123.33498727,\n",
       "       121.96050936, 129.3148719 , 122.54882497, 125.46843208,\n",
       "       119.11054717, 128.96188331, 127.82291748, 124.42367815,\n",
       "       125.1243585 , 125.40386462, 126.86083437, 126.74121065,\n",
       "       122.96640925, 130.35537692, 129.08450779, 130.57298762,\n",
       "       127.97739345, 127.13721012, 126.64026883, 124.20090414,\n",
       "       120.80484678, 122.31091496, 123.24581071, 122.16032976,\n",
       "       131.63514572, 115.80988445, 127.49457091, 127.6505157 ,\n",
       "       132.65828036, 124.71799801, 128.22816528, 131.79831713,\n",
       "       126.73222525, 118.90343197, 121.82614029, 127.22637522,\n",
       "       124.85744524, 127.63850943, 118.73659673, 120.43874437,\n",
       "       123.28364698, 121.4707954 , 130.21690202, 126.51619898,\n",
       "       122.68379532, 123.23658337, 134.13519736, 121.4374327 ,\n",
       "       118.45551829, 120.51154581, 130.32925554, 125.74440158,\n",
       "       125.35001446, 121.76763768, 122.19266922, 127.39759576,\n",
       "       125.61896665, 129.95145675, 119.02580694, 130.8165489 ,\n",
       "       127.2694443 , 122.31386047, 118.95691482, 122.29479002,\n",
       "       129.78305275, 124.56215395, 127.79641472, 124.18238968,\n",
       "       123.01899979, 117.35515435, 129.31287793, 124.35593631,\n",
       "       132.86178957, 126.55761945, 126.10960192, 124.84405799,\n",
       "       115.96832916, 123.80116685, 122.25375268, 117.17787497,\n",
       "       129.62168484, 125.51521101, 126.28670476, 126.46593068,\n",
       "       109.79081028, 128.77521288, 123.62482478, 125.49960478,\n",
       "       114.00079139, 125.19518794, 120.41767871, 124.34113795,\n",
       "       129.75223815, 131.20282556, 133.14064113, 126.50183874,\n",
       "       116.81208175, 131.78432328, 119.28954519, 131.99697266,\n",
       "       125.64222813, 123.89934339, 119.39115215, 123.21878066,\n",
       "       120.79868493, 125.74604092, 130.4504423 , 123.57747313,\n",
       "       128.93102449, 126.11361814, 126.63680179, 125.25772921,\n",
       "       129.94761869, 122.0043572 , 122.39271816, 118.78951005,\n",
       "       127.46142217, 131.70707907, 122.15529209, 127.54834225,\n",
       "       124.98695284, 121.26278899, 125.64228529])"
      ]
     },
     "execution_count": 13,
     "metadata": {},
     "output_type": "execute_result"
    }
   ],
   "source": [
    "predictions = lm.predict(X_test)\n",
    "predictions"
   ]
  },
  {
   "cell_type": "code",
   "execution_count": 14,
   "id": "7526e8e7",
   "metadata": {},
   "outputs": [
    {
     "data": {
      "text/plain": [
       "<matplotlib.collections.PathCollection at 0x27c330099d0>"
      ]
     },
     "execution_count": 14,
     "metadata": {},
     "output_type": "execute_result"
    },
    {
     "data": {
      "image/png": "[encoded data removed]",
      "text/plain": [
       "<Figure size 640x480 with 1 Axes>"
      ]
     },
     "metadata": {},
     "output_type": "display_data"
    }
   ],
   "source": [
    "plt.scatter(y_test,predictions)"
   ]
  },
  {
   "cell_type": "code",
   "execution_count": 15,
   "id": "857c2e78",
   "metadata": {},
   "outputs": [
    {
     "data": {
      "image/png": "[encoded data removed]",
      "text/plain": [
       "<Figure size 500x500 with 1 Axes>"
      ]
     },
     "metadata": {},
     "output_type": "display_data"
    }
   ],
   "source": [
    "sns.displot((y_test-predictions),bins=30);"
   ]
  },
  {
   "cell_type": "markdown",
   "id": "881fc810",
   "metadata": {},
   "source": [
    "### Evaluación del modelo"
   ]
  },
  {
   "cell_type": "code",
   "execution_count": 16,
   "id": "99ac1a22",
   "metadata": {},
   "outputs": [
    {
     "name": "stdout",
     "output_type": "stream",
     "text": [
      "MAE: 3.799498369178097\n",
      "MSE: 23.629625707470634\n",
      "RMSE: 4.861031341955186\n"
     ]
    }
   ],
   "source": [
    "from sklearn import metrics\n",
    "print('MAE:', metrics.mean_absolute_error(y_test, predictions))\n",
    "print('MSE:', metrics.mean_squared_error(y_test, predictions))\n",
    "print('RMSE:', np.sqrt(metrics.mean_squared_error(y_test, predictions)))"
   ]
  },
  {
   "cell_type": "markdown",
   "id": "e6b7756e",
   "metadata": {},
   "source": [
    "### Residuales\n"
   ]
  },
  {
   "cell_type": "code",
   "execution_count": 17,
   "id": "c543baa7",
   "metadata": {},
   "outputs": [
    {
     "data": {
      "image/png": "[encoded data removed]",
      "text/plain": [
       "<Figure size 500x500 with 1 Axes>"
      ]
     },
     "metadata": {},
     "output_type": "display_data"
    }
   ],
   "source": [
    "sns.displot((y_test-predictions),bins=50,kde=True);"
   ]
  },
  {
   "cell_type": "markdown",
   "id": "04023a90",
   "metadata": {},
   "source": [
    "### Conclusiones"
   ]
  },
  {
   "cell_type": "code",
   "execution_count": 18,
   "id": "2c516560",
   "metadata": {},
   "outputs": [
    {
     "data": {
      "text/html": [
       "<div>\n",
       "<style scoped>\n",
       "    .dataframe tbody tr th:only-of-type {\n",
       "        vertical-align: middle;\n",
       "    }\n",
       "\n",
       "    .dataframe tbody tr th {\n",
       "        vertical-align: top;\n",
       "    }\n",
       "\n",
       "    .dataframe thead th {\n",
       "        text-align: right;\n",
       "    }\n",
       "</style>\n",
       "<table border=\"1\" class=\"dataframe\">\n",
       "  <thead>\n",
       "    <tr style=\"text-align: right;\">\n",
       "      <th></th>\n",
       "      <th>Coeficiente</th>\n",
       "    </tr>\n",
       "  </thead>\n",
       "  <tbody>\n",
       "    <tr>\n",
       "      <th>Frecuencia</th>\n",
       "      <td>-0.001271</td>\n",
       "    </tr>\n",
       "    <tr>\n",
       "      <th>AnguloDeAtaque</th>\n",
       "      <td>-0.492657</td>\n",
       "    </tr>\n",
       "    <tr>\n",
       "      <th>LongitudDeLaCuerda</th>\n",
       "      <td>-36.340507</td>\n",
       "    </tr>\n",
       "    <tr>\n",
       "      <th>VelocidadDeFlujoLibre</th>\n",
       "      <td>0.093308</td>\n",
       "    </tr>\n",
       "    <tr>\n",
       "      <th>EspesorDeDesplazamiento</th>\n",
       "      <td>-123.542078</td>\n",
       "    </tr>\n",
       "  </tbody>\n",
       "</table>\n",
       "</div>"
      ],
      "text/plain": [
       "                         Coeficiente\n",
       "Frecuencia                 -0.001271\n",
       "AnguloDeAtaque             -0.492657\n",
       "LongitudDeLaCuerda        -36.340507\n",
       "VelocidadDeFlujoLibre       0.093308\n",
       "EspesorDeDesplazamiento  -123.542078"
      ]
     },
     "execution_count": 18,
     "metadata": {},
     "output_type": "execute_result"
    }
   ],
   "source": [
    "coeff_df = pd.DataFrame(lm.coef_,X.columns,columns=['Coeficiente'])\n",
    "coeff_df"
   ]
  },
  {
   "cell_type": "markdown",
   "id": "af3717a8",
   "metadata": {},
   "source": [
    "Se escogió el modelo de Regresion Lineal porque para la prediccion de datos de la presión esta en base a otras entradas, dando como resultado que la carateristica de velocidad de flujo libre es la que tiene mayor impacto para el aumento de la presion sonora y el espesor de desplazamiento en el que tiene menor impacto para el aumento de la presion sonora "
   ]
  },
  {
   "cell_type": "code",
   "execution_count": null,
   "id": "33c08f0b",
   "metadata": {},
   "outputs": [],
   "source": []
  },
  {
   "cell_type": "code",
   "execution_count": null,
   "id": "a5ca990d",
   "metadata": {},
   "outputs": [],
   "source": []
  }
 ],
 "metadata": {
  "kernelspec": {
   "display_name": "Python 3 (ipykernel)",
   "language": "python",
   "name": "python3"
  },
  "language_info": {
   "codemirror_mode": {
    "name": "ipython",
    "version": 3
   },
   "file_extension": ".py",
   "mimetype": "text/x-python",
   "name": "python",
   "nbconvert_exporter": "python",
   "pygments_lexer": "ipython3",
   "version": "3.8.13"
  }
 },
 "nbformat": 4,
 "nbformat_minor": 5
}
