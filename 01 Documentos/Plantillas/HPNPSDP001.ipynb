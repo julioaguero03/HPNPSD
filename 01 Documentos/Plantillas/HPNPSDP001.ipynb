{
 "cells": [
  {
   "cell_type": "markdown",
   "id": "19991b2d",
   "metadata": {},
   "source": [
    "# TITULO\n",
    "## TITULO\n",
    "### TITULO"
   ]
  },
  {
   "cell_type": "code",
   "execution_count": 1,
   "id": "dc2999c0",
   "metadata": {},
   "outputs": [
    {
     "name": "stdout",
     "output_type": "stream",
     "text": [
      "12\n"
     ]
    }
   ],
   "source": [
    "c = 5\n",
    "a = 7\n",
    "x= a + c\n",
    "print(x)"
   ]
  },
  {
   "cell_type": "code",
   "execution_count": null,
   "id": "ced36bc1",
   "metadata": {},
   "outputs": [],
   "source": []
  }
 ],
 "metadata": {
  "kernelspec": {
   "display_name": "Python 3 (ipykernel)",
   "language": "python",
   "name": "python3"
  },
  "language_info": {
   "codemirror_mode": {
    "name": "ipython",
    "version": 3
   },
   "file_extension": ".py",
   "mimetype": "text/x-python",
   "name": "python",
   "nbconvert_exporter": "python",
   "pygments_lexer": "ipython3",
   "version": "3.9.12"
  }
 },
 "nbformat": 4,
 "nbformat_minor": 5
}
